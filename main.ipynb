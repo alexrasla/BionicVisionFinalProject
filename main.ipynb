{
 "cells": [
  {
   "cell_type": "code",
   "execution_count": null,
   "metadata": {},
   "outputs": [],
   "source": [
    "from operator import mod\n",
    "import numpy as np\n",
    "import pulse2percept as p2p\n",
    "%matplotlib inline\n",
    "from matplotlib import pyplot as plt\n",
    "from swarm_helpers import particle_swarm\n",
    "from implant_helpers import build_implant\n",
    "\n",
    "import pyswarms as ps\n",
    "import pyswarms.backend as P\n",
    "from pyswarms.backend.swarms import Swarm\n",
    "from pyswarm import pso\n",
    "import json"
   ]
  },
  {
   "cell_type": "code",
   "execution_count": null,
   "metadata": {},
   "outputs": [],
   "source": [
    "# Create model and implant\n",
    "# x_range = model.spatial.retinotopy.ret2dva(-2500, 2000)\n",
    "model = p2p.models.AxonMapModel()\n",
    "x_range = model.spatial.retinotopy.ret2dva(-2500, 2000)\n",
    "y_range = model.spatial.retinotopy.ret2dva(-2000, 2000)\n",
    "\n",
    "model = p2p.models.AxonMapModel(xrange=x_range, yrange=y_range, xystep=0.5, rho=100)\n",
    "model.build()\n",
    "\n",
    "# Bounds \n",
    "bound_params = {\n",
    "  'x': (-2500, 2000),\n",
    "  'y': (-2000, 2000)\n",
    "}\n",
    "o_lb = [v[0] for v in bound_params.values()]\n",
    "o_ub = [v[1] for v in bound_params.values()]\n",
    "    \n",
    "overlap_bounds = (o_lb, o_ub)\n"
   ]
  },
  {
   "cell_type": "code",
   "execution_count": null,
   "metadata": {},
   "outputs": [],
   "source": [
    "NUM_ITERATIONS = 100\n",
    "NUM_PARTICLES = 100\n",
    "\n",
    "data = open('data/data.json')\n",
    "experiments = json.load(data)\n",
    "data.close()\n",
    "\n",
    "for num_electrodes in experiments:\n",
    "    for electrode_size in experiments[num_electrodes]:\n",
    "        for loss_func in experiments[num_electrodes][electrode_size]:\n",
    "            \n",
    "            print(f\"---------Experiment---------\")\n",
    "            print(f\"Number of Electrodes: {num_electrodes}\\nElectrode Size: {electrode_size} microns\\nLoss Function: {loss_func}\")\n",
    "            print(f\"Number of Iterations: {NUM_ITERATIONS}\\nNumber of Particles: {NUM_PARTICLES}\")\n",
    "            \n",
    "            search_params = {}\n",
    "            for electrode in range(int(num_electrodes)):\n",
    "            \n",
    "                search_params[\"x\" + str(electrode)] = (-2500, 2000)\n",
    "                search_params[\"y\" + str(electrode)] = (-2000, 2000)\n",
    "\n",
    "            lb = [v[0] for v in search_params.values()]\n",
    "            ub = [v[1] for v in search_params.values()]\n",
    "\n",
    "            bounds = (lb, ub)\n",
    "\n",
    "            # Maximize number of effective electrodes\n",
    "            best_positions, best_cost, n_eff = particle_swarm(num_electrodes, electrode_size, NUM_PARTICLES, NUM_ITERATIONS, bounds, overlap_bounds, model, experiments, loss_func) \n",
    "            \n",
    "            print(f\"Best Cost: {best_cost}\")\n",
    "            print(f\"Best Number Effective: {n_eff}\")\n",
    "            print(f\"----------------------------\")\n",
    "            print()\n"
   ]
  },
  {
   "cell_type": "code",
   "execution_count": null,
   "metadata": {},
   "outputs": [],
   "source": [
    "with open('data/trial1.json', 'r') as data:\n",
    "    experiments = json.load(data)\n",
    "    best_effective = []\n",
    "    best_positions = []\n",
    "\n",
    "    for num_electrodes in experiments:\n",
    "        best_num_eff = 0\n",
    "        for electrode_size in experiments[num_electrodes]:\n",
    "            for loss_func in experiments[num_electrodes][electrode_size]: \n",
    "                if experiments[num_electrodes][electrode_size][loss_func][\"best_num_eff\"] >= best_num_eff:\n",
    "                    if num_electrodes == \"60\" and electrode_size == \"100\":\n",
    "                        best_num_eff = experiments[num_electrodes][electrode_size][loss_func][\"best_num_eff\"]\n",
    "                        best_pos = experiments[num_electrodes][electrode_size][loss_func][\"best_positions\"]\n",
    "                        # best_losses[num_electrodes].append(loss_func)\n",
    "                        # print(\"------------\")\n",
    "                        print(num_electrodes, electrode_size, loss_func, experiments[num_electrodes][electrode_size][loss_func][\"initial_num_effective\"])\n",
    "                   \n",
    "\n",
    "                        best_effective.append(best_num_eff)\n",
    "                        best_positions.append(best_pos)\n",
    "        \n",
    "    for index in range(len(best_effective)):\n",
    "        print(\"Best num:\", best_effective[index])\n",
    "    # print(len(best_positions))\n",
    "    # best_implant = build_implant(best_positions[4])\n",
    "    # best_implant.plot()\n",
    "    # best_implant\n",
    "    # model.plot()"
   ]
  },
  {
   "cell_type": "code",
   "execution_count": null,
   "metadata": {},
   "outputs": [],
   "source": [
    "best_implant = build_implant(best_positions[0])\n",
    "best_implant.plot()\n",
    "best_implant\n",
    "model.plot()"
   ]
  },
  {
   "cell_type": "code",
   "execution_count": null,
   "metadata": {},
   "outputs": [],
   "source": []
  }
 ],
 "metadata": {
  "interpreter": {
   "hash": "aee8b7b246df8f9039afb4144a1f6fd8d2ca17a180786b69acc140d282b71a49"
  },
  "kernelspec": {
   "display_name": "Python 3.9.9 64-bit",
   "language": "python",
   "name": "python3"
  },
  "language_info": {
   "codemirror_mode": {
    "name": "ipython",
    "version": 3
   },
   "file_extension": ".py",
   "mimetype": "text/x-python",
   "name": "python",
   "nbconvert_exporter": "python",
   "pygments_lexer": "ipython3",
   "version": "3.9.9"
  },
  "orig_nbformat": 4
 },
 "nbformat": 4,
 "nbformat_minor": 2
}
